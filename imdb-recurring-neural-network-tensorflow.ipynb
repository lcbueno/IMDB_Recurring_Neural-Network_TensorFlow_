{
 "cells": [
  {
   "cell_type": "markdown",
   "id": "839f0941",
   "metadata": {
    "id": "JL3SBH6PzDwV",
    "papermill": {
     "duration": 0.031949,
     "end_time": "2021-11-16T11:17:28.736416",
     "exception": false,
     "start_time": "2021-11-16T11:17:28.704467",
     "status": "completed"
    },
    "tags": []
   },
   "source": [
    "# Import from libraries"
   ]
  },
  {
   "cell_type": "code",
   "execution_count": 1,
   "id": "7853b685",
   "metadata": {
    "execution": {
     "iopub.execute_input": "2021-11-16T11:17:28.800598Z",
     "iopub.status.busy": "2021-11-16T11:17:28.798734Z",
     "iopub.status.idle": "2021-11-16T11:17:35.467232Z",
     "shell.execute_reply": "2021-11-16T11:17:35.466270Z",
     "shell.execute_reply.started": "2021-11-15T23:33:23.209183Z"
    },
    "id": "ynShOu8nNtFt",
    "papermill": {
     "duration": 6.7015,
     "end_time": "2021-11-16T11:17:35.467451",
     "exception": false,
     "start_time": "2021-11-16T11:17:28.765951",
     "status": "completed"
    },
    "tags": []
   },
   "outputs": [],
   "source": [
    "import tensorflow as tf\n",
    "import numpy as np\n",
    "from tensorflow.keras.datasets import imdb"
   ]
  },
  {
   "cell_type": "markdown",
   "id": "cf7bddee",
   "metadata": {
    "id": "JEjlM2EazOf0",
    "papermill": {
     "duration": 0.027811,
     "end_time": "2021-11-16T11:17:35.524491",
     "exception": false,
     "start_time": "2021-11-16T11:17:35.496680",
     "status": "completed"
    },
    "tags": []
   },
   "source": [
    "# Processing"
   ]
  },
  {
   "cell_type": "code",
   "execution_count": 2,
   "id": "97c2578e",
   "metadata": {
    "execution": {
     "iopub.execute_input": "2021-11-16T11:17:35.585734Z",
     "iopub.status.busy": "2021-11-16T11:17:35.584579Z",
     "iopub.status.idle": "2021-11-16T11:17:35.588638Z",
     "shell.execute_reply": "2021-11-16T11:17:35.589247Z",
     "shell.execute_reply.started": "2021-11-15T23:33:29.968039Z"
    },
    "id": "Jw6_KU24SrYK",
    "papermill": {
     "duration": 0.036249,
     "end_time": "2021-11-16T11:17:35.589433",
     "exception": false,
     "start_time": "2021-11-16T11:17:35.553184",
     "status": "completed"
    },
    "tags": []
   },
   "outputs": [],
   "source": [
    "number_of_words = 20000\n",
    "max_len = 100"
   ]
  },
  {
   "cell_type": "markdown",
   "id": "78bac540",
   "metadata": {
    "id": "ePywR8A4zaxT",
    "papermill": {
     "duration": 0.028877,
     "end_time": "2021-11-16T11:17:35.648215",
     "exception": false,
     "start_time": "2021-11-16T11:17:35.619338",
     "status": "completed"
    },
    "tags": []
   },
   "source": [
    "### Loading IMDB database"
   ]
  },
  {
   "cell_type": "code",
   "execution_count": 3,
   "id": "b6f951d6",
   "metadata": {
    "execution": {
     "iopub.execute_input": "2021-11-16T11:17:35.708833Z",
     "iopub.status.busy": "2021-11-16T11:17:35.707758Z",
     "iopub.status.idle": "2021-11-16T11:17:42.407347Z",
     "shell.execute_reply": "2021-11-16T11:17:42.406323Z",
     "shell.execute_reply.started": "2021-11-15T23:33:29.974081Z"
    },
    "id": "6kCTV_hjOKmE",
    "papermill": {
     "duration": 6.73107,
     "end_time": "2021-11-16T11:17:42.407569",
     "exception": false,
     "start_time": "2021-11-16T11:17:35.676499",
     "status": "completed"
    },
    "tags": []
   },
   "outputs": [
    {
     "name": "stdout",
     "output_type": "stream",
     "text": [
      "Downloading data from https://storage.googleapis.com/tensorflow/tf-keras-datasets/imdb.npz\n",
      "17465344/17464789 [==============================] - 0s 0us/step\n",
      "17473536/17464789 [==============================] - 0s 0us/step\n"
     ]
    }
   ],
   "source": [
    "(X_train, y_train), (X_test, y_test) = imdb.load_data(num_words=number_of_words)"
   ]
  },
  {
   "cell_type": "code",
   "execution_count": 4,
   "id": "f5d591e2",
   "metadata": {
    "execution": {
     "iopub.execute_input": "2021-11-16T11:17:42.480293Z",
     "iopub.status.busy": "2021-11-16T11:17:42.479246Z",
     "iopub.status.idle": "2021-11-16T11:17:42.483350Z",
     "shell.execute_reply": "2021-11-16T11:17:42.483853Z",
     "shell.execute_reply.started": "2021-11-15T23:33:36.69339Z"
    },
    "executionInfo": {
     "elapsed": 16260,
     "status": "ok",
     "timestamp": 1587343599109,
     "user": {
      "displayName": "Fabio Spak",
      "photoUrl": "https://lh3.googleusercontent.com/a-/AOh14Gh5tkVvfK14igqB5tm5e6mMjKYZxeZEPf0g3sbo5Q=s64",
      "userId": "12631437385440185352"
     },
     "user_tz": 180
    },
    "id": "QNKrXIg9LFPz",
    "outputId": "8e04abc6-e991-4241-e341-dbcd786e3415",
    "papermill": {
     "duration": 0.044855,
     "end_time": "2021-11-16T11:17:42.484060",
     "exception": false,
     "start_time": "2021-11-16T11:17:42.439205",
     "status": "completed"
    },
    "tags": []
   },
   "outputs": [
    {
     "data": {
      "text/plain": [
       "(25000,)"
      ]
     },
     "execution_count": 4,
     "metadata": {},
     "output_type": "execute_result"
    }
   ],
   "source": [
    "X_train.shape"
   ]
  },
  {
   "cell_type": "code",
   "execution_count": 5,
   "id": "afb0bac4",
   "metadata": {
    "execution": {
     "iopub.execute_input": "2021-11-16T11:17:42.550140Z",
     "iopub.status.busy": "2021-11-16T11:17:42.549401Z",
     "iopub.status.idle": "2021-11-16T11:17:42.553282Z",
     "shell.execute_reply": "2021-11-16T11:17:42.552681Z",
     "shell.execute_reply.started": "2021-11-15T23:33:36.706385Z"
    },
    "executionInfo": {
     "elapsed": 16018,
     "status": "ok",
     "timestamp": 1587343599109,
     "user": {
      "displayName": "Fabio Spak",
      "photoUrl": "https://lh3.googleusercontent.com/a-/AOh14Gh5tkVvfK14igqB5tm5e6mMjKYZxeZEPf0g3sbo5Q=s64",
      "userId": "12631437385440185352"
     },
     "user_tz": 180
    },
    "id": "ROifMyNHLIg1",
    "outputId": "1ace44c2-55d9-41e2-8ea4-c46c1da1c211",
    "papermill": {
     "duration": 0.0393,
     "end_time": "2021-11-16T11:17:42.553427",
     "exception": false,
     "start_time": "2021-11-16T11:17:42.514127",
     "status": "completed"
    },
    "tags": []
   },
   "outputs": [
    {
     "data": {
      "text/plain": [
       "array([list([1, 14, 22, 16, 43, 530, 973, 1622, 1385, 65, 458, 4468, 66, 3941, 4, 173, 36, 256, 5, 25, 100, 43, 838, 112, 50, 670, 2, 9, 35, 480, 284, 5, 150, 4, 172, 112, 167, 2, 336, 385, 39, 4, 172, 4536, 1111, 17, 546, 38, 13, 447, 4, 192, 50, 16, 6, 147, 2025, 19, 14, 22, 4, 1920, 4613, 469, 4, 22, 71, 87, 12, 16, 43, 530, 38, 76, 15, 13, 1247, 4, 22, 17, 515, 17, 12, 16, 626, 18, 19193, 5, 62, 386, 12, 8, 316, 8, 106, 5, 4, 2223, 5244, 16, 480, 66, 3785, 33, 4, 130, 12, 16, 38, 619, 5, 25, 124, 51, 36, 135, 48, 25, 1415, 33, 6, 22, 12, 215, 28, 77, 52, 5, 14, 407, 16, 82, 10311, 8, 4, 107, 117, 5952, 15, 256, 4, 2, 7, 3766, 5, 723, 36, 71, 43, 530, 476, 26, 400, 317, 46, 7, 4, 12118, 1029, 13, 104, 88, 4, 381, 15, 297, 98, 32, 2071, 56, 26, 141, 6, 194, 7486, 18, 4, 226, 22, 21, 134, 476, 26, 480, 5, 144, 30, 5535, 18, 51, 36, 28, 224, 92, 25, 104, 4, 226, 65, 16, 38, 1334, 88, 12, 16, 283, 5, 16, 4472, 113, 103, 32, 15, 16, 5345, 19, 178, 32]),\n",
       "       list([1, 194, 1153, 194, 8255, 78, 228, 5, 6, 1463, 4369, 5012, 134, 26, 4, 715, 8, 118, 1634, 14, 394, 20, 13, 119, 954, 189, 102, 5, 207, 110, 3103, 21, 14, 69, 188, 8, 30, 23, 7, 4, 249, 126, 93, 4, 114, 9, 2300, 1523, 5, 647, 4, 116, 9, 35, 8163, 4, 229, 9, 340, 1322, 4, 118, 9, 4, 130, 4901, 19, 4, 1002, 5, 89, 29, 952, 46, 37, 4, 455, 9, 45, 43, 38, 1543, 1905, 398, 4, 1649, 26, 6853, 5, 163, 11, 3215, 10156, 4, 1153, 9, 194, 775, 7, 8255, 11596, 349, 2637, 148, 605, 15358, 8003, 15, 123, 125, 68, 2, 6853, 15, 349, 165, 4362, 98, 5, 4, 228, 9, 43, 2, 1157, 15, 299, 120, 5, 120, 174, 11, 220, 175, 136, 50, 9, 4373, 228, 8255, 5, 2, 656, 245, 2350, 5, 4, 9837, 131, 152, 491, 18, 2, 32, 7464, 1212, 14, 9, 6, 371, 78, 22, 625, 64, 1382, 9, 8, 168, 145, 23, 4, 1690, 15, 16, 4, 1355, 5, 28, 6, 52, 154, 462, 33, 89, 78, 285, 16, 145, 95]),\n",
       "       list([1, 14, 47, 8, 30, 31, 7, 4, 249, 108, 7, 4, 5974, 54, 61, 369, 13, 71, 149, 14, 22, 112, 4, 2401, 311, 12, 16, 3711, 33, 75, 43, 1829, 296, 4, 86, 320, 35, 534, 19, 263, 4821, 1301, 4, 1873, 33, 89, 78, 12, 66, 16, 4, 360, 7, 4, 58, 316, 334, 11, 4, 1716, 43, 645, 662, 8, 257, 85, 1200, 42, 1228, 2578, 83, 68, 3912, 15, 36, 165, 1539, 278, 36, 69, 2, 780, 8, 106, 14, 6905, 1338, 18, 6, 22, 12, 215, 28, 610, 40, 6, 87, 326, 23, 2300, 21, 23, 22, 12, 272, 40, 57, 31, 11, 4, 22, 47, 6, 2307, 51, 9, 170, 23, 595, 116, 595, 1352, 13, 191, 79, 638, 89, 2, 14, 9, 8, 106, 607, 624, 35, 534, 6, 227, 7, 129, 113]),\n",
       "       ...,\n",
       "       list([1, 11, 6, 230, 245, 6401, 9, 6, 1225, 446, 2, 45, 2174, 84, 8322, 4007, 21, 4, 912, 84, 14532, 325, 725, 134, 15271, 1715, 84, 5, 36, 28, 57, 1099, 21, 8, 140, 8, 703, 5, 11656, 84, 56, 18, 1644, 14, 9, 31, 7, 4, 9406, 1209, 2295, 2, 1008, 18, 6, 20, 207, 110, 563, 12, 8, 2901, 17793, 8, 97, 6, 20, 53, 4767, 74, 4, 460, 364, 1273, 29, 270, 11, 960, 108, 45, 40, 29, 2961, 395, 11, 6, 4065, 500, 7, 14492, 89, 364, 70, 29, 140, 4, 64, 4780, 11, 4, 2678, 26, 178, 4, 529, 443, 17793, 5, 27, 710, 117, 2, 8123, 165, 47, 84, 37, 131, 818, 14, 595, 10, 10, 61, 1242, 1209, 10, 10, 288, 2260, 1702, 34, 2901, 17793, 4, 65, 496, 4, 231, 7, 790, 5, 6, 320, 234, 2766, 234, 1119, 1574, 7, 496, 4, 139, 929, 2901, 17793, 7750, 5, 4241, 18, 4, 8497, 13164, 250, 11, 1818, 7561, 4, 4217, 5408, 747, 1115, 372, 1890, 1006, 541, 9303, 7, 4, 59, 11027, 4, 3586, 2]),\n",
       "       list([1, 1446, 7079, 69, 72, 3305, 13, 610, 930, 8, 12, 582, 23, 5, 16, 484, 685, 54, 349, 11, 4120, 2959, 45, 58, 1466, 13, 197, 12, 16, 43, 23, 2, 5, 62, 30, 145, 402, 11, 4131, 51, 575, 32, 61, 369, 71, 66, 770, 12, 1054, 75, 100, 2198, 8, 4, 105, 37, 69, 147, 712, 75, 3543, 44, 257, 390, 5, 69, 263, 514, 105, 50, 286, 1814, 23, 4, 123, 13, 161, 40, 5, 421, 4, 116, 16, 897, 13, 2, 40, 319, 5872, 112, 6700, 11, 4803, 121, 25, 70, 3468, 4, 719, 3798, 13, 18, 31, 62, 40, 8, 7200, 4, 2, 7, 14, 123, 5, 942, 25, 8, 721, 12, 145, 5, 202, 12, 160, 580, 202, 12, 6, 52, 58, 11418, 92, 401, 728, 12, 39, 14, 251, 8, 15, 251, 5, 2, 12, 38, 84, 80, 124, 12, 9, 23]),\n",
       "       list([1, 17, 6, 194, 337, 7, 4, 204, 22, 45, 254, 8, 106, 14, 123, 4, 12815, 270, 14437, 5, 16923, 12255, 732, 2098, 101, 405, 39, 14, 1034, 4, 1310, 9, 115, 50, 305, 12, 47, 4, 168, 5, 235, 7, 38, 111, 699, 102, 7, 4, 4039, 9245, 9, 24, 6, 78, 1099, 17, 2345, 16553, 21, 27, 9685, 6139, 5, 2, 1603, 92, 1183, 4, 1310, 7, 4, 204, 42, 97, 90, 35, 221, 109, 29, 127, 27, 118, 8, 97, 12, 157, 21, 6789, 2, 9, 6, 66, 78, 1099, 4, 631, 1191, 5, 2642, 272, 191, 1070, 6, 7585, 8, 2197, 2, 10755, 544, 5, 383, 1271, 848, 1468, 12183, 497, 16876, 8, 1597, 8778, 19280, 21, 60, 27, 239, 9, 43, 8368, 209, 405, 10, 10, 12, 764, 40, 4, 248, 20, 12, 16, 5, 174, 1791, 72, 7, 51, 6, 1739, 22, 4, 204, 131, 9])],\n",
       "      dtype=object)"
      ]
     },
     "execution_count": 5,
     "metadata": {},
     "output_type": "execute_result"
    }
   ],
   "source": [
    "X_train"
   ]
  },
  {
   "cell_type": "code",
   "execution_count": 6,
   "id": "d16dd5a2",
   "metadata": {
    "execution": {
     "iopub.execute_input": "2021-11-16T11:17:42.625498Z",
     "iopub.status.busy": "2021-11-16T11:17:42.624724Z",
     "iopub.status.idle": "2021-11-16T11:17:42.628101Z",
     "shell.execute_reply": "2021-11-16T11:17:42.627561Z",
     "shell.execute_reply.started": "2021-11-15T23:33:36.717436Z"
    },
    "executionInfo": {
     "elapsed": 15781,
     "status": "ok",
     "timestamp": 1587343599110,
     "user": {
      "displayName": "Fabio Spak",
      "photoUrl": "https://lh3.googleusercontent.com/a-/AOh14Gh5tkVvfK14igqB5tm5e6mMjKYZxeZEPf0g3sbo5Q=s64",
      "userId": "12631437385440185352"
     },
     "user_tz": 180
    },
    "id": "Y64CL-AsLMo8",
    "outputId": "486476c3-d67a-44fb-bdf6-b06d0f5582c2",
    "papermill": {
     "duration": 0.043758,
     "end_time": "2021-11-16T11:17:42.628245",
     "exception": false,
     "start_time": "2021-11-16T11:17:42.584487",
     "status": "completed"
    },
    "tags": []
   },
   "outputs": [
    {
     "data": {
      "text/plain": [
       "[1,\n",
       " 14,\n",
       " 22,\n",
       " 16,\n",
       " 43,\n",
       " 530,\n",
       " 973,\n",
       " 1622,\n",
       " 1385,\n",
       " 65,\n",
       " 458,\n",
       " 4468,\n",
       " 66,\n",
       " 3941,\n",
       " 4,\n",
       " 173,\n",
       " 36,\n",
       " 256,\n",
       " 5,\n",
       " 25,\n",
       " 100,\n",
       " 43,\n",
       " 838,\n",
       " 112,\n",
       " 50,\n",
       " 670,\n",
       " 2,\n",
       " 9,\n",
       " 35,\n",
       " 480,\n",
       " 284,\n",
       " 5,\n",
       " 150,\n",
       " 4,\n",
       " 172,\n",
       " 112,\n",
       " 167,\n",
       " 2,\n",
       " 336,\n",
       " 385,\n",
       " 39,\n",
       " 4,\n",
       " 172,\n",
       " 4536,\n",
       " 1111,\n",
       " 17,\n",
       " 546,\n",
       " 38,\n",
       " 13,\n",
       " 447,\n",
       " 4,\n",
       " 192,\n",
       " 50,\n",
       " 16,\n",
       " 6,\n",
       " 147,\n",
       " 2025,\n",
       " 19,\n",
       " 14,\n",
       " 22,\n",
       " 4,\n",
       " 1920,\n",
       " 4613,\n",
       " 469,\n",
       " 4,\n",
       " 22,\n",
       " 71,\n",
       " 87,\n",
       " 12,\n",
       " 16,\n",
       " 43,\n",
       " 530,\n",
       " 38,\n",
       " 76,\n",
       " 15,\n",
       " 13,\n",
       " 1247,\n",
       " 4,\n",
       " 22,\n",
       " 17,\n",
       " 515,\n",
       " 17,\n",
       " 12,\n",
       " 16,\n",
       " 626,\n",
       " 18,\n",
       " 19193,\n",
       " 5,\n",
       " 62,\n",
       " 386,\n",
       " 12,\n",
       " 8,\n",
       " 316,\n",
       " 8,\n",
       " 106,\n",
       " 5,\n",
       " 4,\n",
       " 2223,\n",
       " 5244,\n",
       " 16,\n",
       " 480,\n",
       " 66,\n",
       " 3785,\n",
       " 33,\n",
       " 4,\n",
       " 130,\n",
       " 12,\n",
       " 16,\n",
       " 38,\n",
       " 619,\n",
       " 5,\n",
       " 25,\n",
       " 124,\n",
       " 51,\n",
       " 36,\n",
       " 135,\n",
       " 48,\n",
       " 25,\n",
       " 1415,\n",
       " 33,\n",
       " 6,\n",
       " 22,\n",
       " 12,\n",
       " 215,\n",
       " 28,\n",
       " 77,\n",
       " 52,\n",
       " 5,\n",
       " 14,\n",
       " 407,\n",
       " 16,\n",
       " 82,\n",
       " 10311,\n",
       " 8,\n",
       " 4,\n",
       " 107,\n",
       " 117,\n",
       " 5952,\n",
       " 15,\n",
       " 256,\n",
       " 4,\n",
       " 2,\n",
       " 7,\n",
       " 3766,\n",
       " 5,\n",
       " 723,\n",
       " 36,\n",
       " 71,\n",
       " 43,\n",
       " 530,\n",
       " 476,\n",
       " 26,\n",
       " 400,\n",
       " 317,\n",
       " 46,\n",
       " 7,\n",
       " 4,\n",
       " 12118,\n",
       " 1029,\n",
       " 13,\n",
       " 104,\n",
       " 88,\n",
       " 4,\n",
       " 381,\n",
       " 15,\n",
       " 297,\n",
       " 98,\n",
       " 32,\n",
       " 2071,\n",
       " 56,\n",
       " 26,\n",
       " 141,\n",
       " 6,\n",
       " 194,\n",
       " 7486,\n",
       " 18,\n",
       " 4,\n",
       " 226,\n",
       " 22,\n",
       " 21,\n",
       " 134,\n",
       " 476,\n",
       " 26,\n",
       " 480,\n",
       " 5,\n",
       " 144,\n",
       " 30,\n",
       " 5535,\n",
       " 18,\n",
       " 51,\n",
       " 36,\n",
       " 28,\n",
       " 224,\n",
       " 92,\n",
       " 25,\n",
       " 104,\n",
       " 4,\n",
       " 226,\n",
       " 65,\n",
       " 16,\n",
       " 38,\n",
       " 1334,\n",
       " 88,\n",
       " 12,\n",
       " 16,\n",
       " 283,\n",
       " 5,\n",
       " 16,\n",
       " 4472,\n",
       " 113,\n",
       " 103,\n",
       " 32,\n",
       " 15,\n",
       " 16,\n",
       " 5345,\n",
       " 19,\n",
       " 178,\n",
       " 32]"
      ]
     },
     "execution_count": 6,
     "metadata": {},
     "output_type": "execute_result"
    }
   ],
   "source": [
    "X_train[0]"
   ]
  },
  {
   "cell_type": "code",
   "execution_count": 7,
   "id": "876afa23",
   "metadata": {
    "execution": {
     "iopub.execute_input": "2021-11-16T11:17:42.696397Z",
     "iopub.status.busy": "2021-11-16T11:17:42.695678Z",
     "iopub.status.idle": "2021-11-16T11:17:42.700689Z",
     "shell.execute_reply": "2021-11-16T11:17:42.701340Z",
     "shell.execute_reply.started": "2021-11-15T23:33:36.73506Z"
    },
    "executionInfo": {
     "elapsed": 15526,
     "status": "ok",
     "timestamp": 1587343599111,
     "user": {
      "displayName": "Fabio Spak",
      "photoUrl": "https://lh3.googleusercontent.com/a-/AOh14Gh5tkVvfK14igqB5tm5e6mMjKYZxeZEPf0g3sbo5Q=s64",
      "userId": "12631437385440185352"
     },
     "user_tz": 180
    },
    "id": "aR5ll0JMMeiC",
    "outputId": "90da26c1-6985-401d-b682-cf8c9fbdf853",
    "papermill": {
     "duration": 0.041058,
     "end_time": "2021-11-16T11:17:42.701535",
     "exception": false,
     "start_time": "2021-11-16T11:17:42.660477",
     "status": "completed"
    },
    "tags": []
   },
   "outputs": [
    {
     "data": {
      "text/plain": [
       "array([1, 0, 0, ..., 0, 1, 0])"
      ]
     },
     "execution_count": 7,
     "metadata": {},
     "output_type": "execute_result"
    }
   ],
   "source": [
    "y_train"
   ]
  },
  {
   "cell_type": "markdown",
   "id": "7677388e",
   "metadata": {
    "id": "MZKDNoTKzi5w",
    "papermill": {
     "duration": 0.031587,
     "end_time": "2021-11-16T11:17:42.765200",
     "exception": false,
     "start_time": "2021-11-16T11:17:42.733613",
     "status": "completed"
    },
    "tags": []
   },
   "source": [
    "### Filling the sequences (texts) to have the same size"
   ]
  },
  {
   "cell_type": "code",
   "execution_count": 8,
   "id": "6ec266aa",
   "metadata": {
    "execution": {
     "iopub.execute_input": "2021-11-16T11:17:42.833048Z",
     "iopub.status.busy": "2021-11-16T11:17:42.832317Z",
     "iopub.status.idle": "2021-11-16T11:17:42.837493Z",
     "shell.execute_reply": "2021-11-16T11:17:42.838141Z",
     "shell.execute_reply.started": "2021-11-15T23:33:36.75208Z"
    },
    "executionInfo": {
     "elapsed": 15134,
     "status": "ok",
     "timestamp": 1587343599111,
     "user": {
      "displayName": "Fabio Spak",
      "photoUrl": "https://lh3.googleusercontent.com/a-/AOh14Gh5tkVvfK14igqB5tm5e6mMjKYZxeZEPf0g3sbo5Q=s64",
      "userId": "12631437385440185352"
     },
     "user_tz": 180
    },
    "id": "CQzXQ2BRMjrY",
    "outputId": "43d1aa73-3e32-484d-b732-b05a526e09de",
    "papermill": {
     "duration": 0.040631,
     "end_time": "2021-11-16T11:17:42.838325",
     "exception": false,
     "start_time": "2021-11-16T11:17:42.797694",
     "status": "completed"
    },
    "tags": []
   },
   "outputs": [
    {
     "data": {
      "text/plain": [
       "218"
      ]
     },
     "execution_count": 8,
     "metadata": {},
     "output_type": "execute_result"
    }
   ],
   "source": [
    "len(X_train[0])"
   ]
  },
  {
   "cell_type": "code",
   "execution_count": 9,
   "id": "8d9febe6",
   "metadata": {
    "execution": {
     "iopub.execute_input": "2021-11-16T11:17:42.905797Z",
     "iopub.status.busy": "2021-11-16T11:17:42.905118Z",
     "iopub.status.idle": "2021-11-16T11:17:42.909667Z",
     "shell.execute_reply": "2021-11-16T11:17:42.910299Z",
     "shell.execute_reply.started": "2021-11-15T23:40:53.184518Z"
    },
    "executionInfo": {
     "elapsed": 14612,
     "status": "ok",
     "timestamp": 1587343599111,
     "user": {
      "displayName": "Fabio Spak",
      "photoUrl": "https://lh3.googleusercontent.com/a-/AOh14Gh5tkVvfK14igqB5tm5e6mMjKYZxeZEPf0g3sbo5Q=s64",
      "userId": "12631437385440185352"
     },
     "user_tz": 180
    },
    "id": "7AcQTcaUMneg",
    "outputId": "a397c75b-7b17-44d8-9e4c-5bdebc90984d",
    "papermill": {
     "duration": 0.040205,
     "end_time": "2021-11-16T11:17:42.910477",
     "exception": false,
     "start_time": "2021-11-16T11:17:42.870272",
     "status": "completed"
    },
    "tags": []
   },
   "outputs": [
    {
     "data": {
      "text/plain": [
       "43"
      ]
     },
     "execution_count": 9,
     "metadata": {},
     "output_type": "execute_result"
    }
   ],
   "source": [
    "len(X_train[5])"
   ]
  },
  {
   "cell_type": "code",
   "execution_count": 10,
   "id": "ccbc0fbd",
   "metadata": {
    "execution": {
     "iopub.execute_input": "2021-11-16T11:17:42.978568Z",
     "iopub.status.busy": "2021-11-16T11:17:42.977830Z",
     "iopub.status.idle": "2021-11-16T11:17:43.661503Z",
     "shell.execute_reply": "2021-11-16T11:17:43.660742Z",
     "shell.execute_reply.started": "2021-11-15T23:33:36.778769Z"
    },
    "id": "LHcMNzv7Pd1s",
    "papermill": {
     "duration": 0.719037,
     "end_time": "2021-11-16T11:17:43.661665",
     "exception": false,
     "start_time": "2021-11-16T11:17:42.942628",
     "status": "completed"
    },
    "tags": []
   },
   "outputs": [],
   "source": [
    "X_train = tf.keras.preprocessing.sequence.pad_sequences(X_train, maxlen=max_len)"
   ]
  },
  {
   "cell_type": "code",
   "execution_count": 11,
   "id": "e429550d",
   "metadata": {
    "execution": {
     "iopub.execute_input": "2021-11-16T11:17:43.733644Z",
     "iopub.status.busy": "2021-11-16T11:17:43.732905Z",
     "iopub.status.idle": "2021-11-16T11:17:43.737817Z",
     "shell.execute_reply": "2021-11-16T11:17:43.737186Z",
     "shell.execute_reply.started": "2021-11-15T23:33:37.506926Z"
    },
    "executionInfo": {
     "elapsed": 14230,
     "status": "ok",
     "timestamp": 1587343599440,
     "user": {
      "displayName": "Fabio Spak",
      "photoUrl": "https://lh3.googleusercontent.com/a-/AOh14Gh5tkVvfK14igqB5tm5e6mMjKYZxeZEPf0g3sbo5Q=s64",
      "userId": "12631437385440185352"
     },
     "user_tz": 180
    },
    "id": "3mnR-kYlMtrl",
    "outputId": "257fb3bc-9e20-4a3b-ea19-5d69107121c5",
    "papermill": {
     "duration": 0.04231,
     "end_time": "2021-11-16T11:17:43.738021",
     "exception": false,
     "start_time": "2021-11-16T11:17:43.695711",
     "status": "completed"
    },
    "tags": []
   },
   "outputs": [
    {
     "data": {
      "text/plain": [
       "100"
      ]
     },
     "execution_count": 11,
     "metadata": {},
     "output_type": "execute_result"
    }
   ],
   "source": [
    "len(X_train[0])"
   ]
  },
  {
   "cell_type": "code",
   "execution_count": 12,
   "id": "02991586",
   "metadata": {
    "execution": {
     "iopub.execute_input": "2021-11-16T11:17:43.810744Z",
     "iopub.status.busy": "2021-11-16T11:17:43.809960Z",
     "iopub.status.idle": "2021-11-16T11:17:43.813116Z",
     "shell.execute_reply": "2021-11-16T11:17:43.813692Z",
     "shell.execute_reply.started": "2021-11-15T23:33:37.514539Z"
    },
    "executionInfo": {
     "elapsed": 14001,
     "status": "ok",
     "timestamp": 1587343599440,
     "user": {
      "displayName": "Fabio Spak",
      "photoUrl": "https://lh3.googleusercontent.com/a-/AOh14Gh5tkVvfK14igqB5tm5e6mMjKYZxeZEPf0g3sbo5Q=s64",
      "userId": "12631437385440185352"
     },
     "user_tz": 180
    },
    "id": "mMe3pY1VMxxJ",
    "outputId": "3336943c-49e2-4307-f8de-358cac92d4c0",
    "papermill": {
     "duration": 0.042981,
     "end_time": "2021-11-16T11:17:43.813877",
     "exception": false,
     "start_time": "2021-11-16T11:17:43.770896",
     "status": "completed"
    },
    "tags": []
   },
   "outputs": [
    {
     "data": {
      "text/plain": [
       "100"
      ]
     },
     "execution_count": 12,
     "metadata": {},
     "output_type": "execute_result"
    }
   ],
   "source": [
    "len(X_train[1])"
   ]
  },
  {
   "cell_type": "code",
   "execution_count": 13,
   "id": "6ecc160d",
   "metadata": {
    "execution": {
     "iopub.execute_input": "2021-11-16T11:17:43.892489Z",
     "iopub.status.busy": "2021-11-16T11:17:43.891764Z",
     "iopub.status.idle": "2021-11-16T11:17:44.624433Z",
     "shell.execute_reply": "2021-11-16T11:17:44.625211Z",
     "shell.execute_reply.started": "2021-11-15T23:33:37.535204Z"
    },
    "id": "Fcxd--ESP3Rh",
    "papermill": {
     "duration": 0.778526,
     "end_time": "2021-11-16T11:17:44.625444",
     "exception": false,
     "start_time": "2021-11-16T11:17:43.846918",
     "status": "completed"
    },
    "tags": []
   },
   "outputs": [],
   "source": [
    "X_test = tf.keras.preprocessing.sequence.pad_sequences(X_test, maxlen=max_len)"
   ]
  },
  {
   "cell_type": "markdown",
   "id": "1b4622e0",
   "metadata": {
    "id": "VG6LBKGnz7jT",
    "papermill": {
     "duration": 0.032798,
     "end_time": "2021-11-16T11:17:44.692464",
     "exception": false,
     "start_time": "2021-11-16T11:17:44.659666",
     "status": "completed"
    },
    "tags": []
   },
   "source": [
    "## Building the Recurrent Neural Network"
   ]
  },
  {
   "cell_type": "markdown",
   "id": "1ae6c7a3",
   "metadata": {
    "id": "TUVnz-9K0DcW",
    "papermill": {
     "duration": 0.033314,
     "end_time": "2021-11-16T11:17:44.760414",
     "exception": false,
     "start_time": "2021-11-16T11:17:44.727100",
     "status": "completed"
    },
    "tags": []
   },
   "source": [
    "### Defining the model"
   ]
  },
  {
   "cell_type": "code",
   "execution_count": 14,
   "id": "e92c2e4a",
   "metadata": {
    "execution": {
     "iopub.execute_input": "2021-11-16T11:17:44.831330Z",
     "iopub.status.busy": "2021-11-16T11:17:44.830569Z",
     "iopub.status.idle": "2021-11-16T11:17:44.898682Z",
     "shell.execute_reply": "2021-11-16T11:17:44.899279Z",
     "shell.execute_reply.started": "2021-11-15T23:33:38.29893Z"
    },
    "id": "N2GHzwk6OMrV",
    "papermill": {
     "duration": 0.104915,
     "end_time": "2021-11-16T11:17:44.899465",
     "exception": false,
     "start_time": "2021-11-16T11:17:44.794550",
     "status": "completed"
    },
    "tags": []
   },
   "outputs": [
    {
     "name": "stderr",
     "output_type": "stream",
     "text": [
      "\n",
      "User settings:\n",
      "\n",
      "   KMP_AFFINITY=granularity=fine,verbose,compact,1,0\n",
      "   KMP_BLOCKTIME=0\n",
      "   KMP_SETTINGS=1\n",
      "   KMP_WARNINGS=0\n",
      "\n",
      "Effective settings:\n",
      "\n",
      "   KMP_ABORT_DELAY=0\n",
      "   KMP_ADAPTIVE_LOCK_PROPS='1,1024'\n",
      "   KMP_ALIGN_ALLOC=64\n",
      "   KMP_ALL_THREADPRIVATE=128\n",
      "   KMP_ATOMIC_MODE=2\n",
      "   KMP_BLOCKTIME=0\n",
      "   KMP_CPUINFO_FILE: value is not defined\n",
      "   KMP_DETERMINISTIC_REDUCTION=false\n",
      "   KMP_DEVICE_THREAD_LIMIT=2147483647\n",
      "   KMP_DISP_NUM_BUFFERS=7\n",
      "   KMP_DUPLICATE_LIB_OK=false\n",
      "   KMP_ENABLE_TASK_THROTTLING=true\n",
      "   KMP_FORCE_REDUCTION: value is not defined\n",
      "   KMP_FOREIGN_THREADS_THREADPRIVATE=true\n",
      "   KMP_FORKJOIN_BARRIER='2,2'\n",
      "   KMP_FORKJOIN_BARRIER_PATTERN='hyper,hyper'\n",
      "   KMP_GTID_MODE=3\n",
      "   KMP_HANDLE_SIGNALS=false\n",
      "   KMP_HOT_TEAMS_MAX_LEVEL=1\n",
      "   KMP_HOT_TEAMS_MODE=0\n",
      "   KMP_INIT_AT_FORK=true\n",
      "   KMP_LIBRARY=throughput\n",
      "   KMP_LOCK_KIND=queuing\n",
      "   KMP_MALLOC_POOL_INCR=1M\n",
      "   KMP_NUM_LOCKS_IN_BLOCK=1\n",
      "   KMP_PLAIN_BARRIER='2,2'\n",
      "   KMP_PLAIN_BARRIER_PATTERN='hyper,hyper'\n",
      "   KMP_REDUCTION_BARRIER='1,1'\n",
      "   KMP_REDUCTION_BARRIER_PATTERN='hyper,hyper'\n",
      "   KMP_SCHEDULE='static,balanced;guided,iterative'\n",
      "   KMP_SETTINGS=true\n",
      "   KMP_SPIN_BACKOFF_PARAMS='4096,100'\n",
      "   KMP_STACKOFFSET=64\n",
      "   KMP_STACKPAD=0\n",
      "   KMP_STACKSIZE=8M\n",
      "   KMP_STORAGE_MAP=false\n",
      "   KMP_TASKING=2\n",
      "   KMP_TASKLOOP_MIN_TASKS=0\n",
      "   KMP_TASK_STEALING_CONSTRAINT=1\n",
      "   KMP_TEAMS_THREAD_LIMIT=4\n",
      "   KMP_TOPOLOGY_METHOD=all\n",
      "   KMP_USE_YIELD=1\n",
      "   KMP_VERSION=false\n",
      "   KMP_WARNINGS=false\n",
      "   OMP_AFFINITY_FORMAT='OMP: pid %P tid %i thread %n bound to OS proc set {%A}'\n",
      "   OMP_ALLOCATOR=omp_default_mem_alloc\n",
      "   OMP_CANCELLATION=false\n",
      "   OMP_DEFAULT_DEVICE=0\n",
      "   OMP_DISPLAY_AFFINITY=false\n",
      "   OMP_DISPLAY_ENV=false\n",
      "   OMP_DYNAMIC=false\n",
      "   OMP_MAX_ACTIVE_LEVELS=1\n",
      "   OMP_MAX_TASK_PRIORITY=0\n",
      "   OMP_NESTED: deprecated; max-active-levels-var=1\n",
      "   OMP_NUM_THREADS: value is not defined\n",
      "   OMP_PLACES: value is not defined\n",
      "   OMP_PROC_BIND='intel'\n",
      "   OMP_SCHEDULE='static'\n",
      "   OMP_STACKSIZE=8M\n",
      "   OMP_TARGET_OFFLOAD=DEFAULT\n",
      "   OMP_THREAD_LIMIT=2147483647\n",
      "   OMP_WAIT_POLICY=PASSIVE\n",
      "   KMP_AFFINITY='verbose,warnings,respect,granularity=fine,compact,1,0'\n",
      "\n",
      "2021-11-16 11:17:44.871879: I tensorflow/core/common_runtime/process_util.cc:146] Creating new thread pool with default inter op setting: 2. Tune using inter_op_parallelism_threads for best performance.\n"
     ]
    }
   ],
   "source": [
    "model = tf.keras.Sequential()"
   ]
  },
  {
   "cell_type": "markdown",
   "id": "7c37f6e4",
   "metadata": {
    "id": "lnXJZYR-0HXE",
    "papermill": {
     "duration": 0.036551,
     "end_time": "2021-11-16T11:17:44.969803",
     "exception": false,
     "start_time": "2021-11-16T11:17:44.933252",
     "status": "completed"
    },
    "tags": []
   },
   "source": [
    "### Adding the embedding layer"
   ]
  },
  {
   "cell_type": "code",
   "execution_count": 15,
   "id": "c8c4fa5a",
   "metadata": {
    "execution": {
     "iopub.execute_input": "2021-11-16T11:17:45.047154Z",
     "iopub.status.busy": "2021-11-16T11:17:45.046430Z",
     "iopub.status.idle": "2021-11-16T11:17:45.051482Z",
     "shell.execute_reply": "2021-11-16T11:17:45.052032Z",
     "shell.execute_reply.started": "2021-11-15T23:33:38.370714Z"
    },
    "executionInfo": {
     "elapsed": 13026,
     "status": "ok",
     "timestamp": 1587343599442,
     "user": {
      "displayName": "Fabio Spak",
      "photoUrl": "https://lh3.googleusercontent.com/a-/AOh14Gh5tkVvfK14igqB5tm5e6mMjKYZxeZEPf0g3sbo5Q=s64",
      "userId": "12631437385440185352"
     },
     "user_tz": 180
    },
    "id": "D3XDOdlL4Snk",
    "outputId": "ea5aac58-d60d-41a5-f676-82c1bd84e309",
    "papermill": {
     "duration": 0.043161,
     "end_time": "2021-11-16T11:17:45.052214",
     "exception": false,
     "start_time": "2021-11-16T11:17:45.009053",
     "status": "completed"
    },
    "tags": []
   },
   "outputs": [
    {
     "data": {
      "text/plain": [
       "100"
      ]
     },
     "execution_count": 15,
     "metadata": {},
     "output_type": "execute_result"
    }
   ],
   "source": [
    "X_train.shape[1]"
   ]
  },
  {
   "cell_type": "code",
   "execution_count": 16,
   "id": "87e17ca9",
   "metadata": {
    "execution": {
     "iopub.execute_input": "2021-11-16T11:17:45.125648Z",
     "iopub.status.busy": "2021-11-16T11:17:45.124952Z",
     "iopub.status.idle": "2021-11-16T11:17:45.187789Z",
     "shell.execute_reply": "2021-11-16T11:17:45.188308Z",
     "shell.execute_reply.started": "2021-11-15T23:33:38.378807Z"
    },
    "id": "UWqC0DXbO9FU",
    "papermill": {
     "duration": 0.101072,
     "end_time": "2021-11-16T11:17:45.188497",
     "exception": false,
     "start_time": "2021-11-16T11:17:45.087425",
     "status": "completed"
    },
    "tags": []
   },
   "outputs": [],
   "source": [
    "model.add(tf.keras.layers.Embedding(input_dim=number_of_words, output_dim=128, input_shape=(X_train.shape[1],)))"
   ]
  },
  {
   "cell_type": "markdown",
   "id": "cc5a4c81",
   "metadata": {
    "id": "CM-lpTZX1mEG",
    "papermill": {
     "duration": 0.033242,
     "end_time": "2021-11-16T11:17:45.255318",
     "exception": false,
     "start_time": "2021-11-16T11:17:45.222076",
     "status": "completed"
    },
    "tags": []
   },
   "source": [
    "### Adding the LSTM layer\n",
    "\n",
    "-: 128\n",
    "- activation: tanh"
   ]
  },
  {
   "cell_type": "code",
   "execution_count": 17,
   "id": "19633a67",
   "metadata": {
    "execution": {
     "iopub.execute_input": "2021-11-16T11:17:45.331972Z",
     "iopub.status.busy": "2021-11-16T11:17:45.325782Z",
     "iopub.status.idle": "2021-11-16T11:17:45.640474Z",
     "shell.execute_reply": "2021-11-16T11:17:45.639859Z",
     "shell.execute_reply.started": "2021-11-15T23:33:38.454545Z"
    },
    "id": "5W7IXqhjQpAl",
    "papermill": {
     "duration": 0.351842,
     "end_time": "2021-11-16T11:17:45.640636",
     "exception": false,
     "start_time": "2021-11-16T11:17:45.288794",
     "status": "completed"
    },
    "tags": []
   },
   "outputs": [],
   "source": [
    "model.add(tf.keras.layers.LSTM(units=128, activation='tanh'))"
   ]
  },
  {
   "cell_type": "markdown",
   "id": "b1c03827",
   "metadata": {
    "id": "9T9M5Ult10XM",
    "papermill": {
     "duration": 0.033192,
     "end_time": "2021-11-16T11:17:45.707787",
     "exception": false,
     "start_time": "2021-11-16T11:17:45.674595",
     "status": "completed"
    },
    "tags": []
   },
   "source": [
    "### Adding the output layer\n",
    "\n",
    "-: 1\n",
    "- activation: sigmoid"
   ]
  },
  {
   "cell_type": "code",
   "execution_count": 18,
   "id": "a78e4943",
   "metadata": {
    "execution": {
     "iopub.execute_input": "2021-11-16T11:17:45.845693Z",
     "iopub.status.busy": "2021-11-16T11:17:45.844906Z",
     "iopub.status.idle": "2021-11-16T11:17:45.855313Z",
     "shell.execute_reply": "2021-11-16T11:17:45.855867Z",
     "shell.execute_reply.started": "2021-11-15T23:33:38.779918Z"
    },
    "id": "xe1nHzq7Q91-",
    "papermill": {
     "duration": 0.114445,
     "end_time": "2021-11-16T11:17:45.856078",
     "exception": false,
     "start_time": "2021-11-16T11:17:45.741633",
     "status": "completed"
    },
    "tags": []
   },
   "outputs": [],
   "source": [
    "model.add(tf.keras.layers.Dense(units=1, activation='sigmoid'))"
   ]
  },
  {
   "cell_type": "markdown",
   "id": "9eaf9ece",
   "metadata": {
    "id": "VWcqM4Yr2ALS",
    "papermill": {
     "duration": 0.033758,
     "end_time": "2021-11-16T11:17:45.924343",
     "exception": false,
     "start_time": "2021-11-16T11:17:45.890585",
     "status": "completed"
    },
    "tags": []
   },
   "source": [
    "### Compiling the model"
   ]
  },
  {
   "cell_type": "code",
   "execution_count": 19,
   "id": "9e0b334b",
   "metadata": {
    "execution": {
     "iopub.execute_input": "2021-11-16T11:17:45.997618Z",
     "iopub.status.busy": "2021-11-16T11:17:45.996837Z",
     "iopub.status.idle": "2021-11-16T11:17:46.010485Z",
     "shell.execute_reply": "2021-11-16T11:17:46.011088Z",
     "shell.execute_reply.started": "2021-11-15T23:33:38.797293Z"
    },
    "id": "-z9ACOXcRUUN",
    "papermill": {
     "duration": 0.052379,
     "end_time": "2021-11-16T11:17:46.011280",
     "exception": false,
     "start_time": "2021-11-16T11:17:45.958901",
     "status": "completed"
    },
    "tags": []
   },
   "outputs": [],
   "source": [
    "model.compile(optimizer='rmsprop', loss='binary_crossentropy', metrics=['accuracy'])"
   ]
  },
  {
   "cell_type": "code",
   "execution_count": 20,
   "id": "684d3970",
   "metadata": {
    "execution": {
     "iopub.execute_input": "2021-11-16T11:17:46.086815Z",
     "iopub.status.busy": "2021-11-16T11:17:46.085952Z",
     "iopub.status.idle": "2021-11-16T11:17:46.092740Z",
     "shell.execute_reply": "2021-11-16T11:17:46.092167Z",
     "shell.execute_reply.started": "2021-11-15T23:33:38.818086Z"
    },
    "executionInfo": {
     "elapsed": 12392,
     "status": "ok",
     "timestamp": 1587343600509,
     "user": {
      "displayName": "Fabio Spak",
      "photoUrl": "https://lh3.googleusercontent.com/a-/AOh14Gh5tkVvfK14igqB5tm5e6mMjKYZxeZEPf0g3sbo5Q=s64",
      "userId": "12631437385440185352"
     },
     "user_tz": 180
    },
    "id": "PiolKKO6RjVF",
    "outputId": "800d1da9-23b9-4860-bf0d-eadfabe78f9e",
    "papermill": {
     "duration": 0.04619,
     "end_time": "2021-11-16T11:17:46.092888",
     "exception": false,
     "start_time": "2021-11-16T11:17:46.046698",
     "status": "completed"
    },
    "tags": []
   },
   "outputs": [
    {
     "name": "stdout",
     "output_type": "stream",
     "text": [
      "Model: \"sequential\"\n",
      "_________________________________________________________________\n",
      "Layer (type)                 Output Shape              Param #   \n",
      "=================================================================\n",
      "embedding (Embedding)        (None, 100, 128)          2560000   \n",
      "_________________________________________________________________\n",
      "lstm (LSTM)                  (None, 128)               131584    \n",
      "_________________________________________________________________\n",
      "dense (Dense)                (None, 1)                 129       \n",
      "=================================================================\n",
      "Total params: 2,691,713\n",
      "Trainable params: 2,691,713\n",
      "Non-trainable params: 0\n",
      "_________________________________________________________________\n"
     ]
    }
   ],
   "source": [
    "model.summary()"
   ]
  },
  {
   "cell_type": "markdown",
   "id": "adc84992",
   "metadata": {
    "id": "2bPUvbfe2GJI",
    "papermill": {
     "duration": 0.033893,
     "end_time": "2021-11-16T11:17:46.162188",
     "exception": false,
     "start_time": "2021-11-16T11:17:46.128295",
     "status": "completed"
    },
    "tags": []
   },
   "source": [
    "### Training the model"
   ]
  },
  {
   "cell_type": "code",
   "execution_count": 21,
   "id": "718657eb",
   "metadata": {
    "execution": {
     "iopub.execute_input": "2021-11-16T11:17:46.237297Z",
     "iopub.status.busy": "2021-11-16T11:17:46.236535Z",
     "iopub.status.idle": "2021-11-16T11:20:19.027878Z",
     "shell.execute_reply": "2021-11-16T11:20:19.027286Z",
     "shell.execute_reply.started": "2021-11-15T23:33:38.825924Z"
    },
    "executionInfo": {
     "elapsed": 36724,
     "status": "ok",
     "timestamp": 1587343625115,
     "user": {
      "displayName": "Fabio Spak",
      "photoUrl": "https://lh3.googleusercontent.com/a-/AOh14Gh5tkVvfK14igqB5tm5e6mMjKYZxeZEPf0g3sbo5Q=s64",
      "userId": "12631437385440185352"
     },
     "user_tz": 180
    },
    "id": "9FqUTA1CRpQ8",
    "outputId": "2846fda6-ba1a-470b-ef77-049a44105a79",
    "papermill": {
     "duration": 152.831348,
     "end_time": "2021-11-16T11:20:19.028087",
     "exception": false,
     "start_time": "2021-11-16T11:17:46.196739",
     "status": "completed"
    },
    "tags": []
   },
   "outputs": [
    {
     "name": "stderr",
     "output_type": "stream",
     "text": [
      "2021-11-16 11:17:46.302174: I tensorflow/compiler/mlir/mlir_graph_optimization_pass.cc:185] None of the MLIR Optimization Passes are enabled (registered 2)\n"
     ]
    },
    {
     "name": "stdout",
     "output_type": "stream",
     "text": [
      "Epoch 1/3\n",
      "196/196 [==============================] - 53s 256ms/step - loss: 0.4767 - accuracy: 0.7800\n",
      "Epoch 2/3\n",
      "196/196 [==============================] - 49s 252ms/step - loss: 0.2905 - accuracy: 0.8845\n",
      "Epoch 3/3\n",
      "196/196 [==============================] - 50s 256ms/step - loss: 0.2330 - accuracy: 0.9111\n"
     ]
    },
    {
     "data": {
      "text/plain": [
       "<keras.callbacks.History at 0x7f6aabcff750>"
      ]
     },
     "execution_count": 21,
     "metadata": {},
     "output_type": "execute_result"
    }
   ],
   "source": [
    "model.fit(X_train, y_train, epochs=3, batch_size=128)"
   ]
  },
  {
   "cell_type": "markdown",
   "id": "a5177a6e",
   "metadata": {
    "id": "-wMo2wYpbCgb",
    "papermill": {
     "duration": 0.216309,
     "end_time": "2021-11-16T11:20:19.466506",
     "exception": false,
     "start_time": "2021-11-16T11:20:19.250197",
     "status": "completed"
    },
    "tags": []
   },
   "source": [
    "### Evaluating the model"
   ]
  },
  {
   "cell_type": "code",
   "execution_count": 22,
   "id": "7b581071",
   "metadata": {
    "execution": {
     "iopub.execute_input": "2021-11-16T11:20:19.913893Z",
     "iopub.status.busy": "2021-11-16T11:20:19.911985Z",
     "iopub.status.idle": "2021-11-16T11:20:49.022094Z",
     "shell.execute_reply": "2021-11-16T11:20:49.021107Z",
     "shell.execute_reply.started": "2021-11-15T23:34:00.587657Z"
    },
    "executionInfo": {
     "elapsed": 43137,
     "status": "ok",
     "timestamp": 1587343631883,
     "user": {
      "displayName": "Fabio Spak",
      "photoUrl": "https://lh3.googleusercontent.com/a-/AOh14Gh5tkVvfK14igqB5tm5e6mMjKYZxeZEPf0g3sbo5Q=s64",
      "userId": "12631437385440185352"
     },
     "user_tz": 180
    },
    "id": "a8kD_6q-RySO",
    "outputId": "1cb3ae0b-f283-4d01-d8af-e4923cb42cd0",
    "papermill": {
     "duration": 29.334761,
     "end_time": "2021-11-16T11:20:49.022291",
     "exception": false,
     "start_time": "2021-11-16T11:20:19.687530",
     "status": "completed"
    },
    "tags": []
   },
   "outputs": [
    {
     "name": "stdout",
     "output_type": "stream",
     "text": [
      "782/782 [==============================] - 29s 36ms/step - loss: 0.3990 - accuracy: 0.8435\n"
     ]
    }
   ],
   "source": [
    "test_loss, test_acurracy = model.evaluate(X_test, y_test)"
   ]
  },
  {
   "cell_type": "code",
   "execution_count": 23,
   "id": "bb544053",
   "metadata": {
    "execution": {
     "iopub.execute_input": "2021-11-16T11:20:49.708305Z",
     "iopub.status.busy": "2021-11-16T11:20:49.707621Z",
     "iopub.status.idle": "2021-11-16T11:20:49.711030Z",
     "shell.execute_reply": "2021-11-16T11:20:49.710388Z",
     "shell.execute_reply.started": "2021-11-15T23:34:00.590426Z"
    },
    "executionInfo": {
     "elapsed": 42829,
     "status": "ok",
     "timestamp": 1587343631884,
     "user": {
      "displayName": "Fabio Spak",
      "photoUrl": "https://lh3.googleusercontent.com/a-/AOh14Gh5tkVvfK14igqB5tm5e6mMjKYZxeZEPf0g3sbo5Q=s64",
      "userId": "12631437385440185352"
     },
     "user_tz": 180
    },
    "id": "C0XnUtS-cEeI",
    "outputId": "dfaee852-ab23-4044-fb63-ca32c74163ba",
    "papermill": {
     "duration": 0.351528,
     "end_time": "2021-11-16T11:20:49.711170",
     "exception": false,
     "start_time": "2021-11-16T11:20:49.359642",
     "status": "completed"
    },
    "tags": []
   },
   "outputs": [
    {
     "name": "stdout",
     "output_type": "stream",
     "text": [
      "Test accuracy: 0.8434799909591675\n"
     ]
    }
   ],
   "source": [
    "print(\"Test accuracy: {}\".format(test_acurracy))"
   ]
  },
  {
   "cell_type": "code",
   "execution_count": 24,
   "id": "5cbf8843",
   "metadata": {
    "execution": {
     "iopub.execute_input": "2021-11-16T11:20:50.401181Z",
     "iopub.status.busy": "2021-11-16T11:20:50.400440Z",
     "iopub.status.idle": "2021-11-16T11:20:50.403766Z",
     "shell.execute_reply": "2021-11-16T11:20:50.403128Z",
     "shell.execute_reply.started": "2021-11-15T23:34:00.59286Z"
    },
    "executionInfo": {
     "elapsed": 42554,
     "status": "ok",
     "timestamp": 1587343631884,
     "user": {
      "displayName": "Fabio Spak",
      "photoUrl": "https://lh3.googleusercontent.com/a-/AOh14Gh5tkVvfK14igqB5tm5e6mMjKYZxeZEPf0g3sbo5Q=s64",
      "userId": "12631437385440185352"
     },
     "user_tz": 180
    },
    "id": "SyazAcI7Oxiu",
    "outputId": "59dd7eb3-aa7d-4889-fa19-2c36e888f8ca",
    "papermill": {
     "duration": 0.354834,
     "end_time": "2021-11-16T11:20:50.403934",
     "exception": false,
     "start_time": "2021-11-16T11:20:50.049100",
     "status": "completed"
    },
    "tags": []
   },
   "outputs": [
    {
     "data": {
      "text/plain": [
       "0.3989849090576172"
      ]
     },
     "execution_count": 24,
     "metadata": {},
     "output_type": "execute_result"
    }
   ],
   "source": [
    "test_loss"
   ]
  },
  {
   "cell_type": "markdown",
   "id": "2f087ac3",
   "metadata": {
    "papermill": {
     "duration": 0.34321,
     "end_time": "2021-11-16T11:20:51.096760",
     "exception": false,
     "start_time": "2021-11-16T11:20:50.753550",
     "status": "completed"
    },
    "tags": []
   },
   "source": [
    "# If you find this notebook useful, support with an upvote 👍"
   ]
  },
  {
   "cell_type": "code",
   "execution_count": null,
   "id": "4c25d0c2",
   "metadata": {
    "papermill": {
     "duration": 0.347368,
     "end_time": "2021-11-16T11:20:51.789196",
     "exception": false,
     "start_time": "2021-11-16T11:20:51.441828",
     "status": "completed"
    },
    "tags": []
   },
   "outputs": [],
   "source": []
  }
 ],
 "metadata": {
  "kernelspec": {
   "display_name": "Python 3",
   "language": "python",
   "name": "python3"
  },
  "language_info": {
   "codemirror_mode": {
    "name": "ipython",
    "version": 3
   },
   "file_extension": ".py",
   "mimetype": "text/x-python",
   "name": "python",
   "nbconvert_exporter": "python",
   "pygments_lexer": "ipython3",
   "version": "3.7.10"
  },
  "papermill": {
   "default_parameters": {},
   "duration": 217.004766,
   "end_time": "2021-11-16T11:20:55.211575",
   "environment_variables": {},
   "exception": null,
   "input_path": "__notebook__.ipynb",
   "output_path": "__notebook__.ipynb",
   "parameters": {},
   "start_time": "2021-11-16T11:17:18.206809",
   "version": "2.3.3"
  }
 },
 "nbformat": 4,
 "nbformat_minor": 5
}
